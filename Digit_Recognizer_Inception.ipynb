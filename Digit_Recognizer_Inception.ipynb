{
  "nbformat": 4,
  "nbformat_minor": 0,
  "metadata": {
    "colab": {
      "name": "Digit Recognizer_Inception.ipynb",
      "version": "0.3.2",
      "provenance": [],
      "collapsed_sections": [],
      "include_colab_link": true
    },
    "kernelspec": {
      "name": "python3",
      "display_name": "Python 3"
    },
    "accelerator": "GPU"
  },
  "cells": [
    {
      "cell_type": "markdown",
      "metadata": {
        "id": "view-in-github",
        "colab_type": "text"
      },
      "source": [
        "<a href=\"https://colab.research.google.com/github/NicknameSoHard/Digit-Recognizer-with-Google-Inception/blob/master/Digit_Recognizer_Inception.ipynb\" target=\"_parent\"><img src=\"https://colab.research.google.com/assets/colab-badge.svg\" alt=\"Open In Colab\"/></a>"
      ]
    },
    {
      "metadata": {
        "id": "fvi4KeTc8rZH",
        "colab_type": "text"
      },
      "cell_type": "markdown",
      "source": [
        "[Страница сорревнования Kaggle Digit Recognizer](https://www.kaggle.com/c/digit-recognizer/submissions?sortBy=date&group=all&page=1)\n",
        "![alt text](https://pp.userapi.com/c849328/v849328867/dc537/3QQ0lXDlJX0.jpg)\n",
        "\n",
        "Основной моей идеей в этом сорревновании было изучить строение нейросетей Inceprion от Google  и попробовать применить её миниатюрную версию для данного сорревнования. Ну что же, попытка не пыткаю "
      ]
    },
    {
      "metadata": {
        "id": "3qhGCZ6_D2ma",
        "colab_type": "code",
        "outputId": "380a0714-e230-4afc-bda6-85da8f2227c7",
        "colab": {
          "base_uri": "https://localhost:8080/",
          "height": 187
        }
      },
      "cell_type": "code",
      "source": [
        "from google.colab import drive\n",
        "drive.mount('/content/gdrive')\n",
        "!cp ./gdrive/'My Drive'/Kaggle/kaggle.json ~/.kaggle/\n",
        "!kaggle competitions download -c digit-recognizer"
      ],
      "execution_count": 0,
      "outputs": [
        {
          "output_type": "stream",
          "text": [
            "Drive already mounted at /content/gdrive; to attempt to forcibly remount, call drive.mount(\"/content/gdrive\", force_remount=True).\n",
            "Downloading train.csv to /content\n",
            " 93% 68.0M/73.2M [00:00<00:00, 44.9MB/s]\n",
            "100% 73.2M/73.2M [00:00<00:00, 79.4MB/s]\n",
            "Downloading test.csv to /content\n",
            " 76% 37.0M/48.8M [00:00<00:00, 25.0MB/s]\n",
            "100% 48.8M/48.8M [00:00<00:00, 66.8MB/s]\n",
            "Downloading sample_submission.csv to /content\n",
            "  0% 0.00/235k [00:00<?, ?B/s]\n",
            "100% 235k/235k [00:00<00:00, 75.9MB/s]\n"
          ],
          "name": "stdout"
        }
      ]
    },
    {
      "metadata": {
        "id": "2XwoUdy0EGY6",
        "colab_type": "code",
        "colab": {}
      },
      "cell_type": "code",
      "source": [
        "from pandas import read_csv\n",
        "\n",
        "data_train = read_csv('train.csv')\n",
        "data_test = read_csv('test.csv')"
      ],
      "execution_count": 0,
      "outputs": []
    },
    {
      "metadata": {
        "id": "VNBCHb13GiEr",
        "colab_type": "code",
        "outputId": "ee4fbb78-f901-4ce8-e45c-a884967d7622",
        "colab": {
          "base_uri": "https://localhost:8080/",
          "height": 34
        }
      },
      "cell_type": "code",
      "source": [
        "from keras.utils.np_utils import to_categorical # convert to one-hot-encoding\n",
        "Y_train = data_train[\"label\"]\n",
        "Y_train = to_categorical(Y_train, num_classes = 10)\n",
        "\n",
        "X_train = data_train.drop(labels = [\"label\"],axis = 1) \n",
        "X_train = X_train / 255.0\n",
        "X_train = X_train.values.reshape(-1,28,28)\n",
        "\n",
        "X_test = data_test / 255.0\n",
        "X_test = X_test.values.reshape(-1,28,28)"
      ],
      "execution_count": 0,
      "outputs": [
        {
          "output_type": "stream",
          "text": [
            "Using TensorFlow backend.\n"
          ],
          "name": "stderr"
        }
      ]
    },
    {
      "metadata": {
        "id": "SQ6dZeUUFaST",
        "colab_type": "code",
        "outputId": "243e26c2-0fae-49ea-9e8b-ba5e35404f60",
        "colab": {
          "base_uri": "https://localhost:8080/",
          "height": 51
        }
      },
      "cell_type": "code",
      "source": [
        "print('Размер выборки Train:', X_train.shape)\n",
        "print('Размер выбоки Test:', X_test.shape)"
      ],
      "execution_count": 0,
      "outputs": [
        {
          "output_type": "stream",
          "text": [
            "Размер выборки Train: (42000, 28, 28)\n",
            "Размер выбоки Test: (28000, 28, 28)\n"
          ],
          "name": "stdout"
        }
      ]
    },
    {
      "metadata": {
        "colab_type": "code",
        "id": "ELdq9uM8btWA",
        "colab": {}
      },
      "cell_type": "code",
      "source": [
        "# Начинаем строить модель\n",
        "from keras.layers import Input, Conv1D, MaxPooling1D, Flatten, Dense, Dropout\n",
        "from keras.layers import concatenate\n",
        "from keras.models import Model\n",
        "from keras.optimizers import SGD\n",
        "\n",
        "# Создаем входной слой\n",
        "input_img = Input(shape = X_train[0].shape )\n",
        "\n",
        "# Создаем блок инсепшон в2, используя свертки 1х1, 3х3, 5х5 по 64 каждого и усредняющий слой\n",
        "inceprion_0 = Conv1D(64, 1, padding='same', activation='relu')(input_img)\n",
        "inceprion_0 = Conv1D(64, 3, padding='same', activation='relu')(inceprion_0)\n",
        "inceprion_0 = Conv1D(64, 3, padding='same', activation='relu')(inceprion_0)\n",
        "\n",
        "inceprion_1 = Conv1D(64, 1, padding='same', activation='relu')(input_img)\n",
        "inceprion_1 = Conv1D(64, 3, padding='same', activation='relu')(inceprion_1)\n",
        "\n",
        "inceprion_2 = MaxPooling1D(3, strides=1, padding='same')(input_img)\n",
        "\n",
        "output = concatenate([inceprion_0, inceprion_1, inceprion_2], axis = 2)\n",
        "output = Flatten()(output)\n",
        "out = Dense( 10, activation='softmax')(output)\n",
        "model = Model(inputs = input_img, outputs = out)\n",
        "\n",
        "# собираем модель чтоб потерять веса и переобучаем модельку\n",
        "sgd = SGD(lr=0.01, momentum=0, decay=0, nesterov=False)\n",
        "model.compile(loss='categorical_crossentropy', optimizer=sgd, metrics=['accuracy'])"
      ],
      "execution_count": 0,
      "outputs": []
    },
    {
      "metadata": {
        "id": "Goxf19XBWhbC",
        "colab_type": "code",
        "colab": {}
      },
      "cell_type": "code",
      "source": [
        "# Начинаем строить модель\n",
        "from keras.layers import Input, Conv1D, MaxPooling1D\n",
        "from keras.layers import concatenate\n",
        "\n",
        "# Создаем сходной слой\n",
        "input_img = Input(shape = X_train[0].shape )\n",
        "\n",
        "# Создадим три последовательных слоя свертки 3х3, 3х3 и пулинг слой свертки\n",
        "layer_1 = Conv1D(32, 3, padding='same', activation='relu')(input_img)\n",
        "layer_1 = Conv1D(64, 3, padding='same', activation='relu')(layer_1)\n",
        "layer_1 = MaxPooling1D(2, strides=1, padding='same')(layer_1)\n",
        "\n",
        "# Создаем блок инсепшон, используя свертки 1х1, 3х3, 5х5 по 64 каждого и усредняющий слой\n",
        "inceprion_0 = Conv1D(64, 1, padding='same', activation='relu')(layer_1)\n",
        "inceprion_0 = Conv1D(64, 3, padding='same', activation='relu')(inceprion_0)\n",
        "inceprion_0 = Conv1D(64, 3, padding='same', activation='relu')(inceprion_0)\n",
        "\n",
        "inceprion_1 = Conv1D(64, 1, padding='same', activation='relu')(layer_1)\n",
        "inceprion_1 = Conv1D(64, 3, padding='same', activation='relu')(inceprion_1)\n",
        "\n",
        "inceprion_2 = MaxPooling1D(2, strides=1, padding='same')(layer_1)\n",
        "\n",
        "inceprion = concatenate([inceprion_0, inceprion_1, inceprion_2], axis = 1)\n",
        "\n",
        "# Создадим выходной слой нашей сети и собираем модельку\n",
        "from keras.layers import Flatten, Dense, Dropout\n",
        "from keras.models import Model\n",
        "\n",
        "inceprion = Flatten()(inceprion)\n",
        "\n",
        "out = Dense(10, activation='softmax')(inceprion)\n",
        "\n",
        "model = Model(inputs = input_img, outputs = out)\n",
        "\n",
        "# Добавляем SGD оптимизатор\n",
        "from keras.optimizers import SGD\n",
        "\n",
        "sgd = SGD(lr=0.01, momentum=0, decay=0, nesterov=False)\n",
        "model.compile(loss='categorical_crossentropy', optimizer=sgd, metrics=['accuracy'])"
      ],
      "execution_count": 0,
      "outputs": []
    },
    {
      "metadata": {
        "id": "U03E-npAMMcF",
        "colab_type": "code",
        "outputId": "0b762bbb-0660-4af3-da86-612533898031",
        "colab": {
          "base_uri": "https://localhost:8080/",
          "height": 1224
        }
      },
      "cell_type": "code",
      "source": [
        "model.fit(X_train, Y_train, epochs=35, batch_size=32)"
      ],
      "execution_count": 0,
      "outputs": [
        {
          "output_type": "stream",
          "text": [
            "Epoch 1/35\n",
            "42000/42000 [==============================] - 14s 329us/step - loss: 0.5924 - acc: 0.8353\n",
            "Epoch 2/35\n",
            "42000/42000 [==============================] - 14s 322us/step - loss: 0.2270 - acc: 0.9332\n",
            "Epoch 3/35\n",
            "42000/42000 [==============================] - 13s 319us/step - loss: 0.1650 - acc: 0.9516\n",
            "Epoch 4/35\n",
            "42000/42000 [==============================] - 13s 318us/step - loss: 0.1323 - acc: 0.9613\n",
            "Epoch 5/35\n",
            "42000/42000 [==============================] - 13s 319us/step - loss: 0.1122 - acc: 0.9669\n",
            "Epoch 6/35\n",
            "42000/42000 [==============================] - 13s 316us/step - loss: 0.0973 - acc: 0.9715\n",
            "Epoch 7/35\n",
            "42000/42000 [==============================] - 13s 316us/step - loss: 0.0884 - acc: 0.9737\n",
            "Epoch 8/35\n",
            "42000/42000 [==============================] - 13s 318us/step - loss: 0.0798 - acc: 0.9761\n",
            "Epoch 9/35\n",
            "42000/42000 [==============================] - 13s 317us/step - loss: 0.0727 - acc: 0.9789\n",
            "Epoch 10/35\n",
            "42000/42000 [==============================] - 13s 316us/step - loss: 0.0673 - acc: 0.9798\n",
            "Epoch 11/35\n",
            "42000/42000 [==============================] - 14s 326us/step - loss: 0.0621 - acc: 0.9813\n",
            "Epoch 12/35\n",
            "42000/42000 [==============================] - 13s 318us/step - loss: 0.0584 - acc: 0.9828\n",
            "Epoch 13/35\n",
            "42000/42000 [==============================] - 13s 319us/step - loss: 0.0545 - acc: 0.9844\n",
            "Epoch 14/35\n",
            "42000/42000 [==============================] - 13s 319us/step - loss: 0.0517 - acc: 0.9847\n",
            "Epoch 15/35\n",
            "42000/42000 [==============================] - 13s 316us/step - loss: 0.0486 - acc: 0.9854\n",
            "Epoch 16/35\n",
            "42000/42000 [==============================] - 13s 320us/step - loss: 0.0458 - acc: 0.9866\n",
            "Epoch 17/35\n",
            "42000/42000 [==============================] - 13s 318us/step - loss: 0.0437 - acc: 0.9867\n",
            "Epoch 18/35\n",
            "42000/42000 [==============================] - 14s 322us/step - loss: 0.0415 - acc: 0.9873\n",
            "Epoch 19/35\n",
            "42000/42000 [==============================] - 13s 318us/step - loss: 0.0389 - acc: 0.9885\n",
            "Epoch 20/35\n",
            "42000/42000 [==============================] - 13s 316us/step - loss: 0.0372 - acc: 0.9889\n",
            "Epoch 21/35\n",
            "42000/42000 [==============================] - 13s 320us/step - loss: 0.0357 - acc: 0.9896\n",
            "Epoch 22/35\n",
            "42000/42000 [==============================] - 13s 318us/step - loss: 0.0337 - acc: 0.9900\n",
            "Epoch 23/35\n",
            "42000/42000 [==============================] - 13s 320us/step - loss: 0.0324 - acc: 0.9900\n",
            "Epoch 24/35\n",
            "42000/42000 [==============================] - 14s 323us/step - loss: 0.0305 - acc: 0.9913\n",
            "Epoch 25/35\n",
            "42000/42000 [==============================] - 13s 319us/step - loss: 0.0289 - acc: 0.9918\n",
            "Epoch 26/35\n",
            "42000/42000 [==============================] - 13s 314us/step - loss: 0.0278 - acc: 0.9920\n",
            "Epoch 27/35\n",
            "42000/42000 [==============================] - 13s 315us/step - loss: 0.0267 - acc: 0.9924\n",
            "Epoch 28/35\n",
            "42000/42000 [==============================] - 13s 316us/step - loss: 0.0259 - acc: 0.9919\n",
            "Epoch 29/35\n",
            "42000/42000 [==============================] - 13s 314us/step - loss: 0.0250 - acc: 0.9926\n",
            "Epoch 30/35\n",
            "42000/42000 [==============================] - 13s 317us/step - loss: 0.0234 - acc: 0.9933\n",
            "Epoch 31/35\n",
            "42000/42000 [==============================] - 13s 316us/step - loss: 0.0223 - acc: 0.9935\n",
            "Epoch 32/35\n",
            "42000/42000 [==============================] - 13s 318us/step - loss: 0.0216 - acc: 0.9939\n",
            "Epoch 33/35\n",
            "42000/42000 [==============================] - 13s 317us/step - loss: 0.0203 - acc: 0.9947\n",
            "Epoch 34/35\n",
            "42000/42000 [==============================] - 14s 323us/step - loss: 0.0201 - acc: 0.9940\n",
            "Epoch 35/35\n",
            "42000/42000 [==============================] - 13s 320us/step - loss: 0.0191 - acc: 0.9947\n"
          ],
          "name": "stdout"
        },
        {
          "output_type": "execute_result",
          "data": {
            "text/plain": [
              "<keras.callbacks.History at 0x7f741fd6f240>"
            ]
          },
          "metadata": {
            "tags": []
          },
          "execution_count": 25
        }
      ]
    },
    {
      "metadata": {
        "id": "3Qz5ACSwbKMf",
        "colab_type": "code",
        "outputId": "19392595-d00a-42ea-bac5-594777f832d0",
        "colab": {
          "base_uri": "https://localhost:8080/",
          "height": 34
        }
      },
      "cell_type": "code",
      "source": [
        "scores = model.evaluate(X_train, Y_train, verbose=0)\n",
        "print(\"Accuracy on MNIST:\", scores[1]*100)"
      ],
      "execution_count": 0,
      "outputs": [
        {
          "output_type": "stream",
          "text": [
            "Accuracy on MNIST: 99.55952380952381\n"
          ],
          "name": "stdout"
        }
      ]
    },
    {
      "metadata": {
        "id": "XGI9XlJfMcns",
        "colab_type": "code",
        "colab": {}
      },
      "cell_type": "code",
      "source": [
        "# Сохраняем результат\n",
        "final_result = model.predict(X_test)"
      ],
      "execution_count": 0,
      "outputs": []
    },
    {
      "metadata": {
        "id": "AMX0txXMTehj",
        "colab_type": "code",
        "colab": {}
      },
      "cell_type": "code",
      "source": [
        "import numpy as np\n",
        "import pandas as pd\n",
        "\n",
        "# Подаем в нашу модель тестовые значения\n",
        "final_result = model.predict(X_test)\n",
        "\n",
        "# Сохраняем\n",
        "results = np.argmax(final_result,axis = 1)\n",
        "results = pd.Series(results,name=\"Label\")\n",
        "submission = pd.concat([pd.Series(range(1,28001),name = \"ImageId\"),results],axis = 1)\n",
        "\n",
        "submission.to_csv(\"cnn_mnist_result.csv\",index=False)"
      ],
      "execution_count": 0,
      "outputs": []
    },
    {
      "metadata": {
        "id": "1y_TT4wFyUD0",
        "colab_type": "code",
        "colab": {}
      },
      "cell_type": "code",
      "source": [
        "kaggle competitions submit -c digit-recognizer -f cnn_mnist_result.csv -m \"final solution\""
      ],
      "execution_count": 0,
      "outputs": []
    },
    {
      "metadata": {
        "id": "-VyK_6fk46GB",
        "colab_type": "text"
      },
      "cell_type": "markdown",
      "source": [
        "Текущая модель позволила достить на тестовых данных точности **0.98371**"
      ]
    },
    {
      "metadata": {
        "id": "fEgDdNL1U7yJ",
        "colab_type": "code",
        "colab": {}
      },
      "cell_type": "code",
      "source": [
        "from google.colab import files\n",
        "\n",
        "files.download('cnn_mnist_datagen.csv')"
      ],
      "execution_count": 0,
      "outputs": []
    }
  ]
}